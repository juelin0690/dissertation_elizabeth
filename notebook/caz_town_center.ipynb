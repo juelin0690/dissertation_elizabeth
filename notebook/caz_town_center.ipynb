{
 "cells": [
  {
   "cell_type": "code",
   "execution_count": 1,
   "id": "5715d7c8-4ddf-4ba9-923e-2b52fec28c12",
   "metadata": {},
   "outputs": [
    {
     "name": "stdout",
     "output_type": "stream",
     "text": [
      "Saved maps to: /home/jovyan/work/outputs/figs\n"
     ]
    }
   ],
   "source": [
    "import geopandas as gpd\n",
    "import matplotlib.pyplot as plt\n",
    "from pathlib import Path\n",
    "import fiona\n",
    "from matplotlib.lines import Line2D\n",
    "\n",
    "# ---- 路径 ----\n",
    "bnd_path = \"data/interim/gla_boroughs_2024_27700.gpkg\"  # 底图：不变\n",
    "caz_path = \"data/interim/gla_caz_boundary_2023_27700.gpkg\"\n",
    "tc_path  = \"data/interim/gla_town_centre_boundaries_2023_27700.gpkg\"\n",
    "out_dir  = Path(\"outputs/figs\"); out_dir.mkdir(parents=True, exist_ok=True)\n",
    "\n",
    "def read_first_layer(p):\n",
    "    layer = fiona.listlayers(p)[0]  # 取首层，避免不知道图层名\n",
    "    return gpd.read_file(p, layer=layer).to_crs(27700)\n",
    "\n",
    "# ---- 读数据 ----\n",
    "bnd = read_first_layer(bnd_path)\n",
    "caz = read_first_layer(caz_path)\n",
    "tc  = read_first_layer(tc_path)\n",
    "\n",
    "# 可选：溶解 CAZ → 单一轮廓\n",
    "caz_u = caz.dissolve()\n",
    "\n",
    "# ================= CAZ =================\n",
    "fig, ax = plt.subplots(figsize=(8, 8), dpi=150)\n",
    "bnd.boundary.plot(ax=ax, linewidth=0.6, color=\"k\", alpha=0.35)\n",
    "caz_u.boundary.plot(ax=ax, linewidth=1.6, color=\"crimson\")\n",
    "\n",
    "ax.set_title(\"Central Activities Zone (CAZ), 2023\")\n",
    "ax.set_axis_off()\n",
    "ax.legend(handles=[Line2D([0],[0], color=\"crimson\", lw=2, label=\"CAZ boundary\")],\n",
    "          loc=\"lower left\", frameon=True, fontsize=8)\n",
    "\n",
    "fig.tight_layout()\n",
    "fig.savefig(out_dir / \"london_caz_2023.png\", dpi=300, bbox_inches=\"tight\", facecolor=\"white\")\n",
    "fig.savefig(out_dir / \"london_caz_2023.pdf\", bbox_inches=\"tight\", facecolor=\"white\")\n",
    "plt.close(fig)\n",
    "\n",
    "# ============== Town Centres ==============\n",
    "fig, ax = plt.subplots(figsize=(8, 8), dpi=150)\n",
    "bnd.boundary.plot(ax=ax, linewidth=0.6, color=\"k\", alpha=0.35)\n",
    "tc.boundary.plot(ax=ax, linewidth=0.8, color=\"navy\")\n",
    "\n",
    "ax.set_title(\"London Town Centres, 2023\")\n",
    "ax.set_axis_off()\n",
    "ax.legend(handles=[Line2D([0],[0], color=\"navy\", lw=1.5, label=\"Town centres boundary\")],\n",
    "          loc=\"lower left\", frameon=True, fontsize=8)\n",
    "\n",
    "fig.tight_layout()\n",
    "fig.savefig(out_dir / \"london_town_centres_2023.png\", dpi=300, bbox_inches=\"tight\", facecolor=\"white\")\n",
    "fig.savefig(out_dir / \"london_town_centres_2023.pdf\", bbox_inches=\"tight\", facecolor=\"white\")\n",
    "plt.close(fig)\n",
    "\n",
    "print(\"Saved maps to:\", out_dir.resolve())\n"
   ]
  },
  {
   "cell_type": "code",
   "execution_count": null,
   "id": "79c75cf6-c5f1-4dac-bdad-630c463f4ebc",
   "metadata": {},
   "outputs": [],
   "source": []
  }
 ],
 "metadata": {
  "kernelspec": {
   "display_name": "Python 3 (ipykernel)",
   "language": "python",
   "name": "python3"
  },
  "language_info": {
   "codemirror_mode": {
    "name": "ipython",
    "version": 3
   },
   "file_extension": ".py",
   "mimetype": "text/x-python",
   "name": "python",
   "nbconvert_exporter": "python",
   "pygments_lexer": "ipython3",
   "version": "3.11.6"
  }
 },
 "nbformat": 4,
 "nbformat_minor": 5
}
