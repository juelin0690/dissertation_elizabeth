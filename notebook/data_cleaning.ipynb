{
 "cells": [
  {
   "cell_type": "code",
   "execution_count": 2,
   "id": "e7a7a645-aef7-4537-b61d-b333cc67eaa7",
   "metadata": {},
   "outputs": [
    {
     "name": "stdout",
     "output_type": "stream",
     "text": [
      "Note: you may need to restart the kernel to use updated packages.\n"
     ]
    }
   ],
   "source": [
    "%pip -q install geopandas pyogrio shapely pyproj pandas openpyxl\n"
   ]
  },
  {
   "cell_type": "code",
   "execution_count": 2,
   "id": "d04c8900-bfe4-4d02-965b-c51de3a6a0c1",
   "metadata": {},
   "outputs": [],
   "source": [
    "from pathlib import Path\n",
    "import pandas as pd, geopandas as gpd, pyogrio, datetime, textwrap, os\n",
    "from shapely.validation import make_valid\n",
    "\n",
    "\n",
    "PROJECT_ROOT = Path.cwd()\n",
    "\n",
    "RAW     = PROJECT_ROOT/\"data/raw\"\n",
    "INTERIM = PROJECT_ROOT/\"data/interim\"\n",
    "DOCS    = PROJECT_ROOT/\"docs\"\n",
    "LOGS    = PROJECT_ROOT/\"logs\"\n",
    "for p in (INTERIM, DOCS, LOGS): p.mkdir(parents=True, exist_ok=True)\n",
    "\n",
    "BNG = 27700  # British National Grid\n",
    "\n",
    "def read_any(path, layer=None):\n",
    "    if layer:\n",
    "        return gpd.read_file(f\"{path}|layer={layer}\", engine=\"pyogrio\")\n",
    "    return gpd.read_file(path, engine=\"pyogrio\")\n",
    "\n",
    "def to_27700(gdf):\n",
    "    if gdf.crs is None: raise ValueError(\"Layer has no CRS defined.\")\n",
    "    return gdf.to_crs(BNG) if (gdf.crs.to_epsg() or gdf.crs) != BNG else gdf\n",
    "\n",
    "def make_valid_if_poly(gdf):\n",
    "    if gdf.geom_type.isin([\"Polygon\",\"MultiPolygon\"]).any():\n",
    "        gdf = gdf.copy(); gdf[\"geometry\"] = gdf.geometry.apply(make_valid)\n",
    "    return gdf\n",
    "\n",
    "def write_gpkg(gdf, out_path, layer):\n",
    "    gdf.to_file(out_path, layer=layer, driver=\"GPKG\", engine=\"pyogrio\")\n",
    "\n",
    "def log_append(md):\n",
    "    (LOGS/\"cleaning_log.md\").open(\"a\", encoding=\"utf-8\").write(md+\"\\n\")\n",
    "\n",
    "def find_first(pattern):\n",
    "    return next(RAW.rglob(pattern), None)\n"
   ]
  },
  {
   "cell_type": "code",
   "execution_count": 3,
   "id": "181dcf52-f907-4251-8265-f422584b3559",
   "metadata": {},
   "outputs": [
    {
     "name": "stdout",
     "output_type": "stream",
     "text": [
      "Boroughs: 33 → /home/jovyan/work/data/interim/gla_boroughs_2024_27700.gpkg\n"
     ]
    }
   ],
   "source": [
    "shp = find_first(\"London_Borough_Excluding_MHW.shp\")\n",
    "assert shp, \"London_Borough_Excluding_MHW.shp not found under data/raw/**\"\n",
    "gdf = read_any(shp)\n",
    "gdf = to_27700(make_valid_if_poly(gdf))\n",
    "out = INTERIM/\"gla_boroughs_2024_27700.gpkg\"\n",
    "write_gpkg(gdf, out, layer=\"boroughs\")\n",
    "print(\"Boroughs:\", len(gdf), \"→\", out)\n"
   ]
  },
  {
   "cell_type": "code",
   "execution_count": 4,
   "id": "a34b4bda-554a-4205-bbd5-4692d9d9fc21",
   "metadata": {},
   "outputs": [
    {
     "name": "stdout",
     "output_type": "stream",
     "text": [
      "Stations: 41 Route: 10\n"
     ]
    }
   ],
   "source": [
    "sta_src = RAW/\"tfl_elizabeth_line_stations_2022.geojson\"\n",
    "rte_src = RAW/\"tfl_elizabeth_line_route_2022.geojson\"\n",
    "g_sta = to_27700(read_any(sta_src)); g_rte = to_27700(read_any(rte_src))\n",
    "sta_out = INTERIM/\"tfl_elizabeth_line_stations_2022_27700.gpkg\"\n",
    "rte_out = INTERIM/\"tfl_elizabeth_line_route_2022_27700.gpkg\"\n",
    "write_gpkg(g_sta, sta_out, \"stations\"); write_gpkg(g_rte, rte_out, \"route\")\n",
    "print(\"Stations:\", len(g_sta), \"Route:\", len(g_rte))\n"
   ]
  },
  {
   "cell_type": "code",
   "execution_count": 5,
   "id": "fbfc8549-079a-486e-ad80-15cf5779c77b",
   "metadata": {},
   "outputs": [
    {
     "name": "stdout",
     "output_type": "stream",
     "text": [
      "Note: you may need to restart the kernel to use updated packages.\n",
      "Saved: /home/jovyan/work/data/interim/gla_ptal_contours_2015_27700.gpkg | n = 9\n"
     ]
    }
   ],
   "source": [
    "%pip -q install geopandas pyogrio shapely pandas openpyxl\n",
    "\n",
    "from pathlib import Path\n",
    "import geopandas as gpd\n",
    "from shapely.validation import make_valid\n",
    "\n",
    "ROOT = Path.cwd()\n",
    "RAW, INTERIM = ROOT/\"data/raw\", ROOT/\"data/interim\"\n",
    "INTERIM.mkdir(parents=True, exist_ok=True)\n",
    "\n",
    "tab = next(RAW.rglob(\"*PTAL*Contours*.TAB\"))\n",
    "g = gpd.read_file(tab, engine=\"pyogrio\")\n",
    "g = g.to_crs(27700) if g.crs and g.crs.to_epsg()!=27700 else g\n",
    "if g.geom_type.isin([\"Polygon\",\"MultiPolygon\"]).any():\n",
    "    g = g.copy(); g[\"geometry\"] = g.geometry.apply(make_valid)\n",
    "# 统一字段名\n",
    "for c in g.columns:\n",
    "    if c.lower() in {\"ptal\",\"ptal_value\",\"level\"} and c!=\"ptal\":\n",
    "        g = g.rename(columns={c:\"ptal\"})\n",
    "out_poly = INTERIM/\"gla_ptal_contours_2015_27700.gpkg\"\n",
    "g.to_file(out_poly, layer=\"ptal_contours\", driver=\"GPKG\", engine=\"pyogrio\")\n",
    "print(\"Saved:\", out_poly, \"| n =\", len(g))\n"
   ]
  },
  {
   "cell_type": "code",
   "execution_count": 1,
   "id": "d978d2d6-d0a2-4ca2-80d0-5e7d9632bfbd",
   "metadata": {},
   "outputs": [
    {
     "name": "stdout",
     "output_type": "stream",
     "text": [
      "CSV → /home/jovyan/work/data/interim/gla_ptal_grid_2015.csv | rows: 159451\n",
      "GPKG → /home/jovyan/work/data/interim/gla_ptal_grid_2015_27700.gpkg | n: 159451\n"
     ]
    }
   ],
   "source": [
    "from pathlib import Path\n",
    "import pandas as pd, geopandas as gpd\n",
    "from shapely.geometry import Point\n",
    "\n",
    "ROOT = Path.cwd()\n",
    "RAW, INTERIM = ROOT/\"data/raw\", ROOT/\"data/interim\"\n",
    "INTERIM.mkdir(parents=True, exist_ok=True)\n",
    "\n",
    "# 1) Read the PTAL grid workbook (no dtype forcing)\n",
    "xlsx = next(RAW.rglob(\"*PTAL*Grid*Values*.xls*\"))\n",
    "df = pd.read_excel(xlsx)  # let pandas infer; we'll clean below\n",
    "\n",
    "# 2) Robust column picking\n",
    "def pick(cols, candidates):\n",
    "    for want in candidates:\n",
    "        for c in cols:\n",
    "            if c.strip().lower() == want:\n",
    "                return c\n",
    "    return None\n",
    "\n",
    "xcol = pick(df.columns, [\"x\",\"easting\",\"eastings\"])\n",
    "ycol = pick(df.columns, [\"y\",\"northing\",\"northings\"])\n",
    "aicol = pick(df.columns, [\"ai2015\",\"ai_2015\",\"ai\"])\n",
    "pcol = pick(df.columns, [\"ptal2015\",\"ptal_2015\",\"ptal\"])\n",
    "\n",
    "assert all([xcol,ycol,aicol,pcol]), f\"Columns not found: {xcol,ycol,aicol,pcol}\"\n",
    "\n",
    "df = df[[xcol,ycol,aicol,pcol]].rename(columns={\n",
    "    xcol:\"easting\", ycol:\"northing\", aicol:\"ai_2015\", pcol:\"ptal_2015_raw\"\n",
    "})\n",
    "\n",
    "# 3) Coerce numeric coords + AI; keep PTAL band as string\n",
    "df[\"easting\"]  = pd.to_numeric(df[\"easting\"], errors=\"coerce\")\n",
    "df[\"northing\"] = pd.to_numeric(df[\"northing\"], errors=\"coerce\")\n",
    "df[\"ai_2015\"]  = pd.to_numeric(df[\"ai_2015\"], errors=\"coerce\")\n",
    "\n",
    "band = df[\"ptal_2015_raw\"].astype(str).str.strip().str.lower()\n",
    "\n",
    "# Map lettered bands to an ordinal 0–10\n",
    "ptal_map = {\"0\":0, \"1\":1, \"1a\":2, \"1b\":3, \"2\":4, \"3\":5, \"4\":6, \"5\":7, \"6\":8, \"6a\":9, \"6b\":10}\n",
    "df[\"ptal_2015_band\"] = band\n",
    "df[\"ptal_2015_num\"]  = band.map(ptal_map)  # numeric convenience column\n",
    "\n",
    "# 4) Drop rows missing coordinates\n",
    "df = df.dropna(subset=[\"easting\",\"northing\"])\n",
    "\n",
    "# 5) Save CSV\n",
    "csv_out = INTERIM/\"gla_ptal_grid_2015.csv\"\n",
    "df[[\"easting\",\"northing\",\"ai_2015\",\"ptal_2015_band\",\"ptal_2015_num\"]].to_csv(csv_out, index=False)\n",
    "print(\"CSV →\", csv_out, \"| rows:\", len(df))\n",
    "\n",
    "# 6) Save as point layer (EPSG:27700)\n",
    "gdf = gpd.GeoDataFrame(\n",
    "    df,\n",
    "    geometry=gpd.points_from_xy(df[\"easting\"], df[\"northing\"]),\n",
    "    crs=27700\n",
    ")\n",
    "gpkg_out = INTERIM/\"gla_ptal_grid_2015_27700.gpkg\"\n",
    "gdf[[\"ai_2015\",\"ptal_2015_band\",\"ptal_2015_num\",\"geometry\"]].to_file(\n",
    "    gpkg_out, layer=\"ptal_grid\", driver=\"GPKG\"\n",
    ")\n",
    "print(\"GPKG →\", gpkg_out, \"| n:\", len(gdf))\n"
   ]
  },
  {
   "cell_type": "code",
   "execution_count": 8,
   "id": "0f039a4b-3059-44f3-84cc-67207a76b482",
   "metadata": {},
   "outputs": [
    {
     "name": "stdout",
     "output_type": "stream",
     "text": [
      "Saved: /home/jovyan/work/data/interim/gla_caz_boundary_2023_27700.gpkg | n=1 | crs=EPSG:27700 | bounds=[525850.70678212 176752.17918521 534348.77357172 184194.47686008]\n"
     ]
    }
   ],
   "source": [
    "from pathlib import Path\n",
    "import geopandas as gpd, pyogrio\n",
    "from shapely.validation import make_valid\n",
    "import numpy as np\n",
    "\n",
    "ROOT = Path.cwd()\n",
    "RAW, INTERIM = ROOT/\"data/raw\", ROOT/\"data/interim\"\n",
    "INTERIM.mkdir(parents=True, exist_ok=True)\n",
    "\n",
    "# 1) 读取\n",
    "caz_src = RAW / \"gla_caz_boundary_2023.gpkg\"\n",
    "try:\n",
    "    g = gpd.read_file(caz_src, engine=\"pyogrio\")\n",
    "except Exception:\n",
    "    # 若有多图层，取第一个\n",
    "    names = [row[0] for row in pyogrio.list_layers(caz_src).tolist()]\n",
    "    g = gpd.read_file(f\"{caz_src}|layer={names[0]}\", engine=\"pyogrio\")\n",
    "\n",
    "# 2) 坐标系确认（这份本质是 BNG；若 WKT 非标准则贴 EPSG）\n",
    "minx, miny, maxx, maxy = g.total_bounds\n",
    "epsg = g.crs.to_epsg() if g.crs else None\n",
    "looks_metric = max(abs(maxx), abs(maxy)) > 1000\n",
    "\n",
    "if (g.crs is None or epsg is None) and looks_metric:\n",
    "    g = g.set_crs(27700, allow_override=True)  # 纠正标签，不投影\n",
    "elif epsg != 27700:\n",
    "    g = g.to_crs(27700)                        # 真的是经纬度时才投影\n",
    "\n",
    "# 3) 几何修复 + 融合为单一 CAZ 面\n",
    "g[\"geometry\"] = g.geometry.apply(make_valid)\n",
    "caz = g.dissolve().reset_index(drop=True).assign(name=\"CAZ\")\n",
    "\n",
    "\n",
    "# 4) 写出\n",
    "out = INTERIM / \"gla_caz_boundary_2023_27700.gpkg\"\n",
    "caz.to_file(out, layer=\"caz\", driver=\"GPKG\", engine=\"pyogrio\")\n",
    "print(f\"Saved: {out} | n={len(caz)} | crs={caz.crs} | bounds={caz.total_bounds}\")\n"
   ]
  },
  {
   "cell_type": "code",
   "execution_count": 9,
   "id": "2047bcc4-9248-4607-ab4e-52ef61780234",
   "metadata": {},
   "outputs": [
    {
     "name": "stdout",
     "output_type": "stream",
     "text": [
      "Saved: /home/jovyan/work/data/interim/gla_town_centre_boundaries_2023_27700.gpkg | n=209 | crs=EPSG:27700\n"
     ]
    }
   ],
   "source": [
    "from shapely.validation import make_valid\n",
    "import geopandas as gpd\n",
    "from pathlib import Path\n",
    "\n",
    "BNG = 27700\n",
    "tc_src = RAW / \"gla_town_centre_boundaries_2023.gpkg\"   # 你的原始文件名\n",
    "g = gpd.read_file(tc_src, engine=\"pyogrio\")\n",
    "\n",
    "# 若写成自定义 WKT（to_epsg() 返回 None），按量级纠正为 27700（仅贴标签，不投影）\n",
    "if g.crs is None or getattr(g.crs, \"to_epsg\", lambda: None)() is None:\n",
    "    minx, miny, maxx, maxy = g.total_bounds\n",
    "    if max(abs(maxx), abs(maxy)) > 1000:\n",
    "        g = g.set_crs(BNG, allow_override=True)\n",
    "\n",
    "# 几何修复 + 清理空几何\n",
    "g[\"geometry\"] = g.geometry.apply(make_valid)\n",
    "g = g[g.geometry.notna() & ~g.geometry.is_empty].copy()\n",
    "\n",
    "# 保存分层版（保留每个城镇中心的属性）\n",
    "out = INTERIM / \"gla_town_centre_boundaries_2023_27700.gpkg\"\n",
    "g.to_file(out, layer=\"town_centres\", driver=\"GPKG\", engine=\"pyogrio\")\n",
    "print(f\"Saved: {out} | n={len(g)} | crs={g.crs}\")\n",
    "\n",
    "# 可选：做一个“联合面”（用于快速覆盖判断）\n",
    "tc_union = g.dissolve().reset_index(drop=True)\n",
    "tc_union[\"name\"] = \"Town centres (union)\"\n",
    "tc_union.to_file(INTERIM/\"gla_town_centre_union_2023_27700.gpkg\",\n",
    "                 layer=\"tc_union\", driver=\"GPKG\", engine=\"pyogrio\")\n"
   ]
  },
  {
   "cell_type": "code",
   "execution_count": null,
   "id": "0e15dac6-a2d8-4e9f-a95a-81c5cd4bb30d",
   "metadata": {},
   "outputs": [],
   "source": []
  }
 ],
 "metadata": {
  "kernelspec": {
   "display_name": "Python 3 (ipykernel)",
   "language": "python",
   "name": "python3"
  },
  "language_info": {
   "codemirror_mode": {
    "name": "ipython",
    "version": 3
   },
   "file_extension": ".py",
   "mimetype": "text/x-python",
   "name": "python",
   "nbconvert_exporter": "python",
   "pygments_lexer": "ipython3",
   "version": "3.11.6"
  }
 },
 "nbformat": 4,
 "nbformat_minor": 5
}
